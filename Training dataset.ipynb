{
 "cells": [
  {
   "cell_type": "code",
   "execution_count": 1,
   "metadata": {},
   "outputs": [
    {
     "name": "stderr",
     "output_type": "stream",
     "text": [
      "C:\\Users\\gaura\\AppData\\Local\\Temp\\ipykernel_3456\\2725329924.py:3: DtypeWarning: Columns (7) have mixed types. Specify dtype option on import or set low_memory=False.\n",
      "  df = pd.read_csv('train.csv')\n"
     ]
    },
    {
     "name": "stdout",
     "output_type": "stream",
     "text": [
      "         Store  DayOfWeek        Date  Sales  Customers  Open  Promo  \\\n",
      "0            1          5  2015-07-31   5263        555     1      1   \n",
      "1            2          5  2015-07-31   6064        625     1      1   \n",
      "2            3          5  2015-07-31   8314        821     1      1   \n",
      "3            4          5  2015-07-31  13995       1498     1      1   \n",
      "4            5          5  2015-07-31   4822        559     1      1   \n",
      "...        ...        ...         ...    ...        ...   ...    ...   \n",
      "1017204   1111          2  2013-01-01      0          0     0      0   \n",
      "1017205   1112          2  2013-01-01      0          0     0      0   \n",
      "1017206   1113          2  2013-01-01      0          0     0      0   \n",
      "1017207   1114          2  2013-01-01      0          0     0      0   \n",
      "1017208   1115          2  2013-01-01      0          0     0      0   \n",
      "\n",
      "        StateHoliday  SchoolHoliday  \n",
      "0                  0              1  \n",
      "1                  0              1  \n",
      "2                  0              1  \n",
      "3                  0              1  \n",
      "4                  0              1  \n",
      "...              ...            ...  \n",
      "1017204            a              1  \n",
      "1017205            a              1  \n",
      "1017206            a              1  \n",
      "1017207            a              1  \n",
      "1017208            a              1  \n",
      "\n",
      "[1017209 rows x 9 columns]\n"
     ]
    }
   ],
   "source": [
    "import pandas as pd\n",
    "\n",
    "df = pd.read_csv('train.csv')\n",
    "print(df)\n"
   ]
  },
  {
   "cell_type": "code",
   "execution_count": 3,
   "metadata": {},
   "outputs": [
    {
     "name": "stdout",
     "output_type": "stream",
     "text": [
      "<class 'pandas.core.frame.DataFrame'>\n",
      "RangeIndex: 1017209 entries, 0 to 1017208\n",
      "Data columns (total 9 columns):\n",
      " #   Column         Non-Null Count    Dtype \n",
      "---  ------         --------------    ----- \n",
      " 0   Store          1017209 non-null  int64 \n",
      " 1   DayOfWeek      1017209 non-null  int64 \n",
      " 2   Date           1017209 non-null  object\n",
      " 3   Sales          1017209 non-null  int64 \n",
      " 4   Customers      1017209 non-null  int64 \n",
      " 5   Open           1017209 non-null  int64 \n",
      " 6   Promo          1017209 non-null  int64 \n",
      " 7   StateHoliday   1017209 non-null  object\n",
      " 8   SchoolHoliday  1017209 non-null  int64 \n",
      "dtypes: int64(7), object(2)\n",
      "memory usage: 69.8+ MB\n"
     ]
    }
   ],
   "source": [
    "df.info()"
   ]
  },
  {
   "cell_type": "code",
   "execution_count": null,
   "metadata": {},
   "outputs": [],
   "source": []
  }
 ],
 "metadata": {
  "kernelspec": {
   "display_name": "Python 3",
   "language": "python",
   "name": "python3"
  },
  "language_info": {
   "codemirror_mode": {
    "name": "ipython",
    "version": 3
   },
   "file_extension": ".py",
   "mimetype": "text/x-python",
   "name": "python",
   "nbconvert_exporter": "python",
   "pygments_lexer": "ipython3",
   "version": "3.11.8"
  }
 },
 "nbformat": 4,
 "nbformat_minor": 2
}
